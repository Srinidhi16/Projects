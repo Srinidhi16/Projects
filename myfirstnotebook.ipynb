{
 "cells": [
  {
   "cell_type": "markdown",
   "id": "7838c746",
   "metadata": {},
   "source": [
    "# My Jupyter Notebook on IBM Watson Studio"
   ]
  },
  {
   "cell_type": "markdown",
   "id": "7ed50844",
   "metadata": {},
   "source": [
    "**Srini**\n",
    "\n",
    "Data Scientist"
   ]
  },
  {
   "cell_type": "markdown",
   "id": "afc1ffaf",
   "metadata": {},
   "source": [
    "*I am interested in Data Science because I would love to contribute towards affordable and quality healthcare in the future*"
   ]
  },
  {
   "cell_type": "markdown",
   "id": "7c92f149",
   "metadata": {},
   "source": [
    "### The below should print ‘Hello World’"
   ]
  },
  {
   "cell_type": "code",
   "execution_count": 2,
   "id": "11f7aabc",
   "metadata": {},
   "outputs": [
    {
     "name": "stdout",
     "output_type": "stream",
     "text": [
      "Hello World!\n"
     ]
    }
   ],
   "source": [
    "print(\"Hello World!\")\n"
   ]
  },
  {
   "cell_type": "markdown",
   "id": "edbabc2c",
   "metadata": {},
   "source": [
    "- Number 1\n",
    "- Number 2\n",
    "- Number 3"
   ]
  },
  {
   "cell_type": "code",
   "execution_count": null,
   "id": "07428d89",
   "metadata": {},
   "outputs": [],
   "source": []
  }
 ],
 "metadata": {
  "kernelspec": {
   "display_name": "Python 3 (ipykernel)",
   "language": "python",
   "name": "python3"
  },
  "language_info": {
   "codemirror_mode": {
    "name": "ipython",
    "version": 3
   },
   "file_extension": ".py",
   "mimetype": "text/x-python",
   "name": "python",
   "nbconvert_exporter": "python",
   "pygments_lexer": "ipython3",
   "version": "3.9.7"
  }
 },
 "nbformat": 4,
 "nbformat_minor": 5
}
