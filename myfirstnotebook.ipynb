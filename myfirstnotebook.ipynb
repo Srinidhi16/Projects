{
 "cells": [
  {
   "cell_type": "markdown",
   "id": "44d90971",
   "metadata": {},
   "source": [
    "# My Jupyter Notebook on IBM Watson Studio"
   ]
  },
  {
   "cell_type": "markdown",
   "id": "49a6e796",
   "metadata": {},
   "source": [
    "**Srini**\n",
    "\n",
    "Data Scientist"
   ]
  },
  {
   "cell_type": "markdown",
   "id": "72b56fb7",
   "metadata": {},
   "source": [
    "*I am interested in Data Science because I would love to contribute towards affordable and quality healthcare in the future*"
   ]
  },
  {
   "cell_type": "markdown",
   "id": "774e08e8",
   "metadata": {},
   "source": [
    "### The below should print ‘Hello World’"
   ]
  },
  {
   "cell_type": "code",
   "execution_count": 2,
   "id": "6501554e",
   "metadata": {},
   "outputs": [
    {
     "name": "stdout",
     "output_type": "stream",
     "text": [
      "Hello World!\n"
     ]
    }
   ],
   "source": [
    "print(\"Hello World!\")\n"
   ]
  },
  {
   "cell_type": "markdown",
   "id": "63879dda",
   "metadata": {},
   "source": [
    "## Bullet list"
   ]
  },
  {
   "cell_type": "markdown",
   "id": "ad042166",
   "metadata": {},
   "source": [
    "- Number 1\n",
    "- Number 2\n",
    "- Number 3"
   ]
  },
  {
   "cell_type": "markdown",
   "id": "c9d1b63e",
   "metadata": {},
   "source": [
    "## Horizontal rule"
   ]
  },
  {
   "cell_type": "markdown",
   "id": "01d11342",
   "metadata": {},
   "source": [
    " <hr /> "
   ]
  },
  {
   "cell_type": "markdown",
   "id": "2f73efe5",
   "metadata": {},
   "source": [
    "## Hyperlinks"
   ]
  },
  {
   "cell_type": "markdown",
   "id": "52506228",
   "metadata": {},
   "source": [
    "\"https://www.shutterstock.com/search/data+science+logo\"   # link to website\n"
   ]
  },
  {
   "cell_type": "markdown",
   "id": "bbee7477",
   "metadata": {},
   "source": [
    "## Numbered list"
   ]
  },
  {
   "cell_type": "markdown",
   "id": "44915438",
   "metadata": {},
   "source": [
    "1. item 1\n",
    "2. item 2\n",
    "\n",
    "    ```\n",
    "    Code block\n",
    "    ```\n",
    "3. item 3"
   ]
  },
  {
   "cell_type": "code",
   "execution_count": null,
   "id": "3a320728",
   "metadata": {},
   "outputs": [],
   "source": []
  }
 ],
 "metadata": {
  "kernelspec": {
   "display_name": "Python 3 (ipykernel)",
   "language": "python",
   "name": "python3"
  },
  "language_info": {
   "codemirror_mode": {
    "name": "ipython",
    "version": 3
   },
   "file_extension": ".py",
   "mimetype": "text/x-python",
   "name": "python",
   "nbconvert_exporter": "python",
   "pygments_lexer": "ipython3",
   "version": "3.9.7"
  }
 },
 "nbformat": 4,
 "nbformat_minor": 5
}
