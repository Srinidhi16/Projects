{
 "cells": [
  {
   "cell_type": "markdown",
   "id": "d50af002",
   "metadata": {},
   "source": [
    "### Name : Srinidhi Murali\n",
    "### Roll No: D21034"
   ]
  },
  {
   "cell_type": "markdown",
   "id": "51b2e883",
   "metadata": {},
   "source": [
    "Exercise\n",
    "1. use the same set of predictors to fit a knn model(choose appropriate values of k using cv)\n",
    "2. fit Linear regression on same data. Use CV to validate the model\n",
    "3. Fit decision tree on same data.Use CV to validate the model\n",
    "4. Choose the best competing models for testing\n",
    "5. Report the best performing model\n",
    "\n",
    "GIVE EXPLANATIONS"
   ]
  },
  {
   "cell_type": "markdown",
   "id": "1d8f17c0",
   "metadata": {},
   "source": [
    "#### Required Library"
   ]
  },
  {
   "cell_type": "code",
   "execution_count": 1,
   "id": "e03a702d",
   "metadata": {},
   "outputs": [],
   "source": [
    "import numpy as np\n",
    "import pandas as pd\n",
    "\n",
    "#for train-test-split\n",
    "from sklearn.model_selection import train_test_split\n",
    "\n",
    "#for fitting regression tree\n",
    "from sklearn.tree import DecisionTreeRegressor\n",
    "\n",
    "from sklearn.neighbors import KNeighborsRegressor\n",
    "\n",
    "from sklearn.linear_model import LinearRegression\n",
    "\n",
    "#For cross validation \n",
    "from sklearn.model_selection import cross_val_score\n",
    "\n",
    "import matplotlib.pyplot as plt\n",
    "\n",
    "#To calculate error metrics\n",
    "from sklearn import metrics\n"
   ]
  },
  {
   "cell_type": "markdown",
   "id": "5c655fa3",
   "metadata": {},
   "source": [
    "#### Read data"
   ]
  },
  {
   "cell_type": "code",
   "execution_count": 2,
   "id": "9ba16eb1",
   "metadata": {},
   "outputs": [
    {
     "data": {
      "text/html": [
       "<div>\n",
       "<style scoped>\n",
       "    .dataframe tbody tr th:only-of-type {\n",
       "        vertical-align: middle;\n",
       "    }\n",
       "\n",
       "    .dataframe tbody tr th {\n",
       "        vertical-align: top;\n",
       "    }\n",
       "\n",
       "    .dataframe thead th {\n",
       "        text-align: right;\n",
       "    }\n",
       "</style>\n",
       "<table border=\"1\" class=\"dataframe\">\n",
       "  <thead>\n",
       "    <tr style=\"text-align: right;\">\n",
       "      <th></th>\n",
       "      <th>Car</th>\n",
       "      <th>MPG</th>\n",
       "      <th>Cylinders</th>\n",
       "      <th>Displacement</th>\n",
       "      <th>Horsepower</th>\n",
       "      <th>Weight</th>\n",
       "      <th>Acceleration</th>\n",
       "      <th>Model</th>\n",
       "      <th>Origin</th>\n",
       "    </tr>\n",
       "  </thead>\n",
       "  <tbody>\n",
       "    <tr>\n",
       "      <th>0</th>\n",
       "      <td>Chevrolet Chevelle Malibu</td>\n",
       "      <td>18.0</td>\n",
       "      <td>8</td>\n",
       "      <td>307.0</td>\n",
       "      <td>130</td>\n",
       "      <td>3504</td>\n",
       "      <td>12.0</td>\n",
       "      <td>70</td>\n",
       "      <td>US</td>\n",
       "    </tr>\n",
       "    <tr>\n",
       "      <th>1</th>\n",
       "      <td>Buick Skylark 320</td>\n",
       "      <td>15.0</td>\n",
       "      <td>8</td>\n",
       "      <td>350.0</td>\n",
       "      <td>165</td>\n",
       "      <td>3693</td>\n",
       "      <td>11.5</td>\n",
       "      <td>70</td>\n",
       "      <td>US</td>\n",
       "    </tr>\n",
       "    <tr>\n",
       "      <th>2</th>\n",
       "      <td>Plymouth Satellite</td>\n",
       "      <td>18.0</td>\n",
       "      <td>8</td>\n",
       "      <td>318.0</td>\n",
       "      <td>150</td>\n",
       "      <td>3436</td>\n",
       "      <td>11.0</td>\n",
       "      <td>70</td>\n",
       "      <td>US</td>\n",
       "    </tr>\n",
       "    <tr>\n",
       "      <th>3</th>\n",
       "      <td>AMC Rebel SST</td>\n",
       "      <td>16.0</td>\n",
       "      <td>8</td>\n",
       "      <td>304.0</td>\n",
       "      <td>150</td>\n",
       "      <td>3433</td>\n",
       "      <td>12.0</td>\n",
       "      <td>70</td>\n",
       "      <td>US</td>\n",
       "    </tr>\n",
       "    <tr>\n",
       "      <th>4</th>\n",
       "      <td>Ford Torino</td>\n",
       "      <td>17.0</td>\n",
       "      <td>8</td>\n",
       "      <td>302.0</td>\n",
       "      <td>140</td>\n",
       "      <td>3449</td>\n",
       "      <td>10.5</td>\n",
       "      <td>70</td>\n",
       "      <td>US</td>\n",
       "    </tr>\n",
       "  </tbody>\n",
       "</table>\n",
       "</div>"
      ],
      "text/plain": [
       "                         Car   MPG  Cylinders  Displacement  Horsepower  \\\n",
       "0  Chevrolet Chevelle Malibu  18.0          8         307.0         130   \n",
       "1          Buick Skylark 320  15.0          8         350.0         165   \n",
       "2         Plymouth Satellite  18.0          8         318.0         150   \n",
       "3              AMC Rebel SST  16.0          8         304.0         150   \n",
       "4                Ford Torino  17.0          8         302.0         140   \n",
       "\n",
       "   Weight  Acceleration  Model Origin  \n",
       "0    3504          12.0     70     US  \n",
       "1    3693          11.5     70     US  \n",
       "2    3436          11.0     70     US  \n",
       "3    3433          12.0     70     US  \n",
       "4    3449          10.5     70     US  "
      ]
     },
     "execution_count": 2,
     "metadata": {},
     "output_type": "execute_result"
    }
   ],
   "source": [
    "cars = pd.read_csv(r\"C:\\Users\\Admin\\Documents\\Praxis\\IML\\Sessions\\cars.csv\")\n",
    "cars.head()"
   ]
  },
  {
   "cell_type": "code",
   "execution_count": 3,
   "id": "c296547d",
   "metadata": {},
   "outputs": [],
   "source": [
    "#Assigned predictors (X) and target(Y)\n",
    "X = cars[['Cylinders','Weight','Horsepower']]\n",
    "y = cars['MPG']"
   ]
  },
  {
   "cell_type": "code",
   "execution_count": 4,
   "id": "516b033c",
   "metadata": {},
   "outputs": [],
   "source": [
    "#Separating the data as train,test\n",
    "X_train, X_test, y_train, y_test = train_test_split(X,y,test_size=0.2,random_state=100)"
   ]
  },
  {
   "cell_type": "markdown",
   "id": "f26f7c13",
   "metadata": {},
   "source": [
    "Data is separated into train, test, validation. CV is used to find best K value in KNN."
   ]
  },
  {
   "cell_type": "code",
   "execution_count": 5,
   "id": "c4d98a66",
   "metadata": {},
   "outputs": [],
   "source": [
    "#From the train data, separating it as train,validation. \n",
    "X_train,X_val,y_train,y_val = train_test_split(X_train,y_train,test_size=0.3,random_state=100)"
   ]
  },
  {
   "cell_type": "markdown",
   "id": "8a0cc50b",
   "metadata": {},
   "source": [
    "### KNN"
   ]
  },
  {
   "cell_type": "code",
   "execution_count": 6,
   "id": "dfceddc5",
   "metadata": {},
   "outputs": [
    {
     "data": {
      "text/plain": [
       "KNeighborsRegressor()"
      ]
     },
     "execution_count": 6,
     "metadata": {},
     "output_type": "execute_result"
    }
   ],
   "source": [
    "knn = KNeighborsRegressor(n_neighbors=5)\n",
    "knn.fit(X_train,y_train)"
   ]
  },
  {
   "cell_type": "code",
   "execution_count": 7,
   "id": "a3ef9fed",
   "metadata": {
    "scrolled": false
   },
   "outputs": [],
   "source": [
    "#Specify the k value from range 1-50\n",
    "neighbors = list(range(1,50))\n",
    "\n",
    "#Create a list to append cv scores\n",
    "cv_scores=[]\n",
    "\n",
    "#Perform cv to choose appropriate k\n",
    "for k in neighbors:\n",
    "    knn = KNeighborsRegressor(n_neighbors=k)\n",
    "    knn_scores = cross_val_score(knn, X_val, y_val, cv=10, scoring='neg_mean_absolute_error')\n",
    "    cv_scores.append(knn_scores.mean())\n"
   ]
  },
  {
   "cell_type": "code",
   "execution_count": 8,
   "id": "0e0a5125",
   "metadata": {},
   "outputs": [
    {
     "data": {
      "text/plain": [
       "-3.618088712516487"
      ]
     },
     "execution_count": 8,
     "metadata": {},
     "output_type": "execute_result"
    }
   ],
   "source": [
    "#Average cv score of KNN\n",
    "np.mean(cv_scores)"
   ]
  },
  {
   "cell_type": "code",
   "execution_count": 9,
   "id": "cdb5d8e2",
   "metadata": {},
   "outputs": [
    {
     "data": {
      "text/plain": [
       "3.618088712516487"
      ]
     },
     "execution_count": 9,
     "metadata": {},
     "output_type": "execute_result"
    }
   ],
   "source": [
    "#To get absolute value\n",
    "knn_cv = np.abs(np.mean(cv_scores))\n",
    "knn_cv"
   ]
  },
  {
   "cell_type": "code",
   "execution_count": 10,
   "id": "c718ad37",
   "metadata": {},
   "outputs": [
    {
     "data": {
      "image/png": "[encoded data removed]",
      "text/plain": [
       "<Figure size 432x288 with 1 Axes>"
      ]
     },
     "metadata": {
      "needs_background": "light"
     },
     "output_type": "display_data"
    }
   ],
   "source": [
    "#Plotting K values with cv scores to find which K has the least cv score\n",
    "plt.plot(neighbors, cv_scores)\n",
    "plt.xlabel('k-values')\n",
    "plt.ylabel('cv scores')\n",
    "plt.grid(which='major',axis='both')\n",
    "plt.show()"
   ]
  },
  {
   "cell_type": "code",
   "execution_count": 22,
   "id": "7af14800",
   "metadata": {},
   "outputs": [
    {
     "data": {
      "text/plain": [
       "KNeighborsRegressor(n_neighbors=15)"
      ]
     },
     "execution_count": 22,
     "metadata": {},
     "output_type": "execute_result"
    }
   ],
   "source": [
    "#Using the k value to fit the model with train data\n",
    "knn = KNeighborsRegressor(n_neighbors=15)\n",
    "knn.fit(X_train,y_train)"
   ]
  },
  {
   "cell_type": "code",
   "execution_count": 23,
   "id": "f37c4663",
   "metadata": {},
   "outputs": [],
   "source": [
    "#Predict y\n",
    "y_pred = knn.predict(X_test)"
   ]
  },
  {
   "cell_type": "code",
   "execution_count": 24,
   "id": "bdc7a633",
   "metadata": {},
   "outputs": [
    {
     "data": {
      "text/plain": [
       "0.7277984679735571"
      ]
     },
     "execution_count": 24,
     "metadata": {},
     "output_type": "execute_result"
    }
   ],
   "source": [
    "#Check accuracy score for KNN\n",
    "knn.score(X_test,y_test)"
   ]
  },
  {
   "cell_type": "code",
   "execution_count": 25,
   "id": "221b71df",
   "metadata": {},
   "outputs": [
    {
     "name": "stdout",
     "output_type": "stream",
     "text": [
      "Mean absolute error:  2.783008130081301\n",
      "Mean squared error:  13.057125745257455\n",
      "Root mean squeared error:  3.61346450726411\n"
     ]
    }
   ],
   "source": [
    "#To get the error metrics from the actual and predicted y\n",
    "print(\"Mean absolute error: \",metrics.mean_absolute_error(y_test,y_pred))\n",
    "print(\"Mean squared error: \",metrics.mean_squared_error(y_test,y_pred))\n",
    "print(\"Root mean squeared error: \",np.sqrt(metrics.mean_squared_error(y_test,y_pred)))"
   ]
  },
  {
   "cell_type": "markdown",
   "id": "a500926d",
   "metadata": {},
   "source": [
    "### Linear Regression"
   ]
  },
  {
   "cell_type": "code",
   "execution_count": 14,
   "id": "0a330338",
   "metadata": {},
   "outputs": [],
   "source": [
    "#Add object to LR\n",
    "reg = LinearRegression()"
   ]
  },
  {
   "cell_type": "code",
   "execution_count": 15,
   "id": "7492ee20",
   "metadata": {},
   "outputs": [
    {
     "name": "stdout",
     "output_type": "stream",
     "text": [
      "Avg cv score -3.642208\n"
     ]
    }
   ],
   "source": [
    "#Used cross_val_score(model,X,y,cv=no.of folds) to find the cv score of X_val, y_val\n",
    "l_scores = cross_val_score(reg, X_val, y_val, cv=5, scoring='neg_mean_absolute_error')\n",
    "\n",
    "#average cv score of LinearREression()\n",
    "print('Avg cv score %2f' %(l_scores.mean()))"
   ]
  },
  {
   "cell_type": "code",
   "execution_count": 16,
   "id": "06ae6bd2",
   "metadata": {},
   "outputs": [
    {
     "data": {
      "text/plain": [
       "3.6422080724092702"
      ]
     },
     "execution_count": 16,
     "metadata": {},
     "output_type": "execute_result"
    }
   ],
   "source": [
    "#To get absolute value\n",
    "l_cv = np.abs(l_scores.mean())\n",
    "l_cv"
   ]
  },
  {
   "cell_type": "code",
   "execution_count": 27,
   "id": "d7f32236",
   "metadata": {},
   "outputs": [
    {
     "data": {
      "text/plain": [
       "0.6892101508659892"
      ]
     },
     "execution_count": 27,
     "metadata": {},
     "output_type": "execute_result"
    }
   ],
   "source": [
    "#Check accuracy score for LinearRegression\n",
    "reg.score(X_test,y_test)"
   ]
  },
  {
   "cell_type": "markdown",
   "id": "5b40833c",
   "metadata": {},
   "source": [
    "### Decision Tree"
   ]
  },
  {
   "cell_type": "code",
   "execution_count": 17,
   "id": "1e52e5f1",
   "metadata": {},
   "outputs": [],
   "source": [
    "#Add object , define max_depth which is the no. of partitions\n",
    "dt_model = DecisionTreeRegressor(max_depth=3, min_samples_leaf=5)"
   ]
  },
  {
   "cell_type": "code",
   "execution_count": 18,
   "id": "3ab77121",
   "metadata": {},
   "outputs": [
    {
     "name": "stdout",
     "output_type": "stream",
     "text": [
      "Avg cv score -4.098839\n"
     ]
    }
   ],
   "source": [
    "#Get cv score\n",
    "dt_scores = cross_val_score(dt_model, X_val, y_val, cv=5, scoring='neg_mean_absolute_error')\n",
    "\n",
    "#average cv score of DecisionTree\n",
    "print('Avg cv score %2f' %(dt_scores.mean()))"
   ]
  },
  {
   "cell_type": "code",
   "execution_count": 19,
   "id": "158f2a93",
   "metadata": {},
   "outputs": [
    {
     "data": {
      "text/plain": [
       "4.098839007629797"
      ]
     },
     "execution_count": 19,
     "metadata": {},
     "output_type": "execute_result"
    }
   ],
   "source": [
    "#To get absolute value\n",
    "dt_cv = np.abs(dt_scores.mean())\n",
    "dt_cv"
   ]
  },
  {
   "cell_type": "code",
   "execution_count": 29,
   "id": "514efa98",
   "metadata": {},
   "outputs": [
    {
     "data": {
      "text/plain": [
       "DecisionTreeRegressor(max_depth=3, min_samples_leaf=5)"
      ]
     },
     "execution_count": 29,
     "metadata": {},
     "output_type": "execute_result"
    }
   ],
   "source": [
    "#Fitting the decisiontree model\n",
    "dt_model.fit(X_train,y_train)"
   ]
  },
  {
   "cell_type": "code",
   "execution_count": 30,
   "id": "7a0ee703",
   "metadata": {},
   "outputs": [],
   "source": [
    "#Predicting y values\n",
    "dt_ypred = dt_model.predict(X_test)"
   ]
  },
  {
   "cell_type": "code",
   "execution_count": 31,
   "id": "42b0d858",
   "metadata": {},
   "outputs": [
    {
     "data": {
      "text/plain": [
       "0.7125182244081641"
      ]
     },
     "execution_count": 31,
     "metadata": {},
     "output_type": "execute_result"
    }
   ],
   "source": [
    "#Check accuracy score for decision tree\n",
    "dt_model.score(X_test,y_test)"
   ]
  },
  {
   "cell_type": "markdown",
   "id": "72677a8e",
   "metadata": {},
   "source": [
    "### 4. Choose the best model"
   ]
  },
  {
   "cell_type": "markdown",
   "id": "52427009",
   "metadata": {},
   "source": [
    "1. On comparing the 3 models based on cv score(with scoring='mean_absolute_value'), KNN model has the least and so it does perform better than the Linear regression and Decision tree model\n",
    "\n",
    "2. On comparing based on accuracy score, KNN performs better than LinearRegression and DecisionTree models\n",
    "\n",
    "a. KNN = 0.727798\n",
    "\n",
    "b. DecisionTree = 0.712518\n",
    "\n",
    "c. LinearRegression = 0.689210"
   ]
  },
  {
   "cell_type": "markdown",
   "id": "07fc3dac",
   "metadata": {},
   "source": [
    "### 5. Report the best performing model"
   ]
  },
  {
   "cell_type": "markdown",
   "id": "39df8170",
   "metadata": {},
   "source": [
    "For KNN, taking K value from a range between 1-50 and plotting on a graph,its seen k=15 to be providing more accurate results. Fitted the model using KNN(K-15), and predicted the y values. The error metrics are:\n",
    "1. Mean absolute error:  2.783008130081301\n",
    "2. Mean squared error:  13.057125745257455\n",
    "3. Root mean squeared error:  3.61346450726411\n",
    "\n",
    "Further, for test score KNN has 72% accuracy"
   ]
  }
 ],
 "metadata": {
  "kernelspec": {
   "display_name": "Python 3",
   "language": "python",
   "name": "python3"
  },
  "language_info": {
   "codemirror_mode": {
    "name": "ipython",
    "version": 3
   },
   "file_extension": ".py",
   "mimetype": "text/x-python",
   "name": "python",
   "nbconvert_exporter": "python",
   "pygments_lexer": "ipython3",
   "version": "3.8.8"
  }
 },
 "nbformat": 4,
 "nbformat_minor": 5
}
